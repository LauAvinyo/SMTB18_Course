{
 "cells": [
  {
   "cell_type": "code",
   "execution_count": 28,
   "metadata": {},
   "outputs": [
    {
     "data": {
      "text/plain": [
       "13"
      ]
     },
     "execution_count": 28,
     "metadata": {},
     "output_type": "execute_result"
    }
   ],
   "source": [
    "# Fibonaci\n",
    "def fib(n):\n",
    "    table = {}\n",
    "    return fibRec(n, table)\n",
    "\n",
    "    \n",
    "def fibRec(n, table):\n",
    "    if n  <= 1: \n",
    "        return 1\n",
    "    if n in table:\n",
    "        return table[n]\n",
    "    else:\n",
    "        table[n] = fibRec(n-1, table) + fibRec(n-2, table)\n",
    "        return table[n]\n",
    "fib(6)"
   ]
  },
  {
   "cell_type": "code",
   "execution_count": 29,
   "metadata": {},
   "outputs": [],
   "source": [
    "def fibBad(n):\n",
    "    if n < 2: return 1\n",
    "    else: return fibBad(n-1) + fibBad(n-2)"
   ]
  },
  {
   "cell_type": "code",
   "execution_count": null,
   "metadata": {},
   "outputs": [],
   "source": [
    "st = time.time()\n",
    "fibBad(100)\n",
    "end = time.time()\n",
    "print(end-st)\n",
    "st = time.time()\n",
    "fib(100)\n",
    "end = time.time()\n",
    "print(end-st)"
   ]
  },
  {
   "cell_type": "code",
   "execution_count": 22,
   "metadata": {},
   "outputs": [],
   "source": [
    "import time"
   ]
  },
  {
   "cell_type": "code",
   "execution_count": 16,
   "metadata": {},
   "outputs": [
    {
     "name": "stdout",
     "output_type": "stream",
     "text": [
      "aura\n",
      "ur\n"
     ]
    },
    {
     "data": {
      "text/plain": [
       "0"
      ]
     },
     "execution_count": 16,
     "metadata": {},
     "output_type": "execute_result"
    }
   ],
   "source": [
    "# Palindrom\n",
    "def pal(s):\n",
    "    print(s)\n",
    "    # Base case:\n",
    "    if s=='': return 1\n",
    "    if len(s) == 1: return 1\n",
    "    \n",
    "    # Otherwise\n",
    "    if s[0] != s[-1]: return 0\n",
    "    else: return pal(s[1:-1])\n",
    "pal('aura')"
   ]
  },
  {
   "cell_type": "code",
   "execution_count": 17,
   "metadata": {},
   "outputs": [],
   "source": [
    "# Power\n",
    "def pow(n, l):\n",
    "    if l == 1: return n\n",
    "    return n*pow(n, l-1)"
   ]
  },
  {
   "cell_type": "code",
   "execution_count": 2,
   "metadata": {},
   "outputs": [],
   "source": [
    "def fact(n):\n",
    "    ## BASE CASE:\n",
    "    if n == 1: \n",
    "        return 1\n",
    "    # Otherwise\n",
    "    return n * fact(n-1)"
   ]
  },
  {
   "cell_type": "code",
   "execution_count": 3,
   "metadata": {},
   "outputs": [
    {
     "data": {
      "text/plain": [
       "24"
      ]
     },
     "execution_count": 3,
     "metadata": {},
     "output_type": "execute_result"
    }
   ],
   "source": [
    "fact(4)"
   ]
  },
  {
   "cell_type": "code",
   "execution_count": null,
   "metadata": {},
   "outputs": [],
   "source": []
  }
 ],
 "metadata": {
  "kernelspec": {
   "display_name": "Python 3",
   "language": "python",
   "name": "python3"
  },
  "language_info": {
   "codemirror_mode": {
    "name": "ipython",
    "version": 3
   },
   "file_extension": ".py",
   "mimetype": "text/x-python",
   "name": "python",
   "nbconvert_exporter": "python",
   "pygments_lexer": "ipython3",
   "version": "3.5.2"
  }
 },
 "nbformat": 4,
 "nbformat_minor": 2
}

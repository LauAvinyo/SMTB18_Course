{
 "cells": [
  {
   "cell_type": "markdown",
   "metadata": {},
   "source": [
    "# Object Oriented Aligner"
   ]
  },
  {
   "cell_type": "markdown",
   "metadata": {},
   "source": [
    "Objects are just things that have *attributes* (properties, characteristics, ..) and *methods* (actions they can do). For example, a cat has:\n",
    "- Attributes: color, race, name, color of eyes, age...\n",
    "- Methods: beign angry, eat, sleep, meow\n",
    "And an apple:\n",
    "- Attributes: color, origen, price...\n",
    "- Growth, ripe...\n",
    "\n",
    "In this notebook we will write the templates for the objects we need to do a proper multiple sequence aligner.\n",
    "\n",
    "The class is the template for doing all this objects. A created object is call **instace**."
   ]
  },
  {
   "cell_type": "markdown",
   "metadata": {},
   "source": [
    "### Sequence"
   ]
  },
  {
   "cell_type": "markdown",
   "metadata": {},
   "source": [
    "The first thing we need to align sequences are sequences. Surprise! For now a sequence has a name, a sequence itself and some features as attributes and no method. We can add them later on. \n",
    "\n",
    "To aviod people from outside using the attributes directly and do a safe code we use the **_** to determine internal attributes and *properties* to show them outside."
   ]
  },
  {
   "cell_type": "code",
   "execution_count": 80,
   "metadata": {},
   "outputs": [],
   "source": [
    "class Sequence:\n",
    "    def __init__(self, name, sequence, features):\n",
    "        self._name = name\n",
    "        self._seq  = sequence\n",
    "        self._feat = features\n",
    "    \n",
    "    @property\n",
    "    def name(self):\n",
    "        return self._name\n",
    "    \n",
    "    @property\n",
    "    def sequence(self):\n",
    "        return self._seq\n",
    "    \n",
    "    @property\n",
    "    def features(self):\n",
    "        return self._feat\n",
    "    \n",
    "    def appendSequence(self, newSeq):\n",
    "        self._seq += newSeq"
   ]
  },
  {
   "cell_type": "code",
   "execution_count": 58,
   "metadata": {},
   "outputs": [
    {
     "name": "stdout",
     "output_type": "stream",
     "text": [
      "seq1\n",
      "seq1\n"
     ]
    }
   ],
   "source": [
    "seq1 = Sequence('seq1', 'ACGT', 'First sequence')\n",
    "print(seq1._name)\n",
    "print(seq1.name)\n",
    "# Is the same output! But the seq1.name is safer to use!"
   ]
  },
  {
   "cell_type": "code",
   "execution_count": 59,
   "metadata": {},
   "outputs": [
    {
     "data": {
      "text/plain": [
       "'ACGTdmskl'"
      ]
     },
     "execution_count": 59,
     "metadata": {},
     "output_type": "execute_result"
    }
   ],
   "source": [
    "seq1.sequence + 'dmskl'"
   ]
  },
  {
   "cell_type": "markdown",
   "metadata": {},
   "source": [
    "## Tree"
   ]
  },
  {
   "cell_type": "markdown",
   "metadata": {},
   "source": [
    "#### Nodes"
   ]
  },
  {
   "cell_type": "markdown",
   "metadata": {},
   "source": [
    "Then, we need a tree. Trees are builded from nodes and branches. We can do a template for both, however, we will never use branches and I am lazy, so I will only code the template for nodes.\n",
    "So, a node is a point inside the a tree. They a parental node. They may have a right and left child. If the node has no child they will be 0! They may have, as well, name, but only if they are trees. They have the method to print theirselves, and a method to print their neighbours. Indeed, we do not even need the tree if we program the nodes correctly! The less the better!!"
   ]
  },
  {
   "cell_type": "code",
   "execution_count": 105,
   "metadata": {},
   "outputs": [],
   "source": [
    "class Node:\n",
    "    def __init__(self, name=None, leftChild=0, rightChild=0, parent=0):\n",
    "        self._name    = name\n",
    "        self._left    = leftChild\n",
    "        self._right   = rightChild\n",
    "        self._parent  = parent\n",
    "        self.distance = 0\n",
    "\n",
    "    def printNode(self):\n",
    "        print('Name: '   + str(self._name))\n",
    "    \n",
    "    def printNeighbours(self):\n",
    "        print('Parent: ' + str(self._parent))\n",
    "        print('Right: '  + str(self._right))\n",
    "        print('Left: '   + str(self._left))\n",
    "        \n",
    "    @property\n",
    "    def rightChild(self):\n",
    "        return self._rigth\n",
    "    \n",
    "    @property\n",
    "    def leftChild(self):\n",
    "        return self._left\n",
    "    \n",
    "    @property\n",
    "    def parent(self):\n",
    "        return self._parent"
   ]
  },
  {
   "cell_type": "code",
   "execution_count": 106,
   "metadata": {},
   "outputs": [
    {
     "name": "stdout",
     "output_type": "stream",
     "text": [
      "Name: None\n",
      "Parent: 0\n",
      "Right: 0\n",
      "Left: 0\n"
     ]
    }
   ],
   "source": [
    "node1 = Node()\n",
    "node1.printNode()\n",
    "node1.printNeighbours()"
   ]
  },
  {
   "cell_type": "markdown",
   "metadata": {},
   "source": [
    "## The Multiple Sequence Aligment!"
   ]
  },
  {
   "cell_type": "markdown",
   "metadata": {},
   "source": [
    "Yes! We are here! Crazy right? Let's remember what it is needed for a multiple sequence aligment:\n",
    "- Attibutes:\n",
    "    - Sequences: All the sequences in a dictionary from `name` to `Sequence instance`.\n",
    "    - A matrix: It is a two dimension dictionary. From `(A to B)` to the `score` of that subtitution.\n",
    "    - Nodes: All the nodes will be saved in a dictionary `nodeId` to the `Node instance`.\n",
    "    - Aligment: Yes, it is what you guess.\n",
    "- Methods:\n",
    "    - Function to read the fasta file.\n",
    "    - A function to read an already done matrix.\n",
    "    - A function to read a newick tree.\n",
    "    - A function to do the pairwise alignments.\n",
    "    - A function to iterate through the tree and knowing when to align."
   ]
  },
  {
   "cell_type": "code",
   "execution_count": 104,
   "metadata": {},
   "outputs": [],
   "source": [
    "class MultipleSequenceAlignment:\n",
    "    import re\n",
    "    def __init__(self, seqFile, matFile, newkFile):\n",
    "        # Input files \n",
    "        self._seqPath  = seqFile\n",
    "        self._matPath  = matFile\n",
    "        self._newkPath = newkFile\n",
    "        \n",
    "        # Parse data\n",
    "        self._sequences =  readFastaFile(seqFile)\n",
    "        self._matrix    =  readMatrixFile(matFile)\n",
    "        self._nodes     =  readNewickFile(newkFile)\n",
    "        \n",
    "        # Data\n",
    "        self._numNodes = len(nodes) - 1\n",
    "        \n",
    "    \n",
    "    def readFastaSFile(file):\n",
    "        sequences = {}\n",
    "        with open(file) as f:\n",
    "            for line in f:\n",
    "                # If this line is name line\n",
    "                if re.match(r'^>', line):\n",
    "                    matchObject = re.match(r'^>(\\S*)\\s*(.*)', line)\n",
    "\n",
    "                    if (matchObject):\n",
    "                        name = matchObject.group(1)\n",
    "                        feat = matchObject.group(1)\n",
    "                        sequences[name] = \\\n",
    "                            Sequence(name=name, sequence='', features=feat) \n",
    "                # Otherwise\n",
    "                else:\n",
    "                    sequences[name].appendSequence(line.strip())\n",
    "        return sequences\n",
    "    \n",
    "    def readMatrixFile(filename):\n",
    "        # Read the file\n",
    "        handle = open(filename, 'r')\n",
    "        content= handle.readlines()\n",
    "        handle.close()\n",
    "\n",
    "        # Set up the matrix file\n",
    "        matrix  = {}\n",
    "        letters = []\n",
    "        numline = len(content) \n",
    "\n",
    "        for nl in range(0, numline):\n",
    "            line = content[nl]\n",
    "            splt = line.split()\n",
    "            a = splt[0]\n",
    "            if a not in matrix:\n",
    "                matrix[a] = {}\n",
    "                letters.append(a)\n",
    "\n",
    "        # Go throug the file and save the values\n",
    "        for nl in range(0, numline):\n",
    "            line = content[nl]\n",
    "            splt = line.split()\n",
    "            l = len(splt)\n",
    "            aa1 = splt[0]\n",
    "            for a in range(0, len(letters)):\n",
    "                aa2 = letters[a]\n",
    "                matrix[aa1][aa2] = splt[a]\n",
    "                matrix[aa2][aa1] = splt[a]\n",
    "\n",
    "        return matrix\n",
    "    \n",
    "    \n",
    "\n",
    "    "
   ]
  },
  {
   "cell_type": "code",
   "execution_count": 96,
   "metadata": {},
   "outputs": [],
   "source": [
    "MSA1 = MultipleSequenceAlignment('s', 's', 's')"
   ]
  },
  {
   "cell_type": "code",
   "execution_count": 97,
   "metadata": {},
   "outputs": [],
   "source": []
  },
  {
   "cell_type": "code",
   "execution_count": 98,
   "metadata": {},
   "outputs": [],
   "source": [
    "sequences = readFastaFile('cyc1_sequences.txt')"
   ]
  },
  {
   "cell_type": "code",
   "execution_count": 99,
   "metadata": {},
   "outputs": [
    {
     "name": "stdout",
     "output_type": "stream",
     "text": [
      "tr|D7NYA8|D7NYA8_CYNSP VMLSALGMLAAGGAGLAVALHSAVSASDLELHPPSYPWSHRGLLSSLDHTSIRRGFQVYKQVCSSCHSMDYVAYRHLVGVCYTEEEAKALAEEVEVQDGPNEDGEMFMRPGKLSDYFPKPYANPEAARAANNGALPPDLSYIVRARHGGEDYVFSLLTGYCEPPTGVSLREGLYFNPYFPGQAIGMAPPIYDEVLEFDDGTPASMSQVAK\n",
      "tr|E2REM0|E2REM0_CANLF MAVAAASLRGAVLGPRGAGLPGAGARGLLCGARLGQLPLRTSQAVPLSSKAGPSRGRKVMLSALGMLAAGGAGLAVALHSAVSASDLELHPPSYPWSHRGLLSSLDHTSIRRGFQVYKQVCSSCHSMDYVAYRHLVGVCYTEDEAKALAEEVEVQDGPNEDGEMFMRPGKLSDYFPKPYPNPEAARAANNGALPPDLSYITRARHGGEDYVFSLLTGYCEPPTGVSLREGLYFNPYFPGQAIGMAPPIYDEVLEFDDGTPATMSQVAKDVCTFLRWASEPEHDHRKRMGLKMLMMMGLLFPLIYAMKRHKWSVLKSRKLAYRPPK\n",
      "tr|F6VRY7|F6VRY7_HORSE SGLSRGRKVMLSALGMLAAGGAGLAVALHSAVSASDLELHPPSYPWSHRGLLSSLDHTRSSGRGFQVYKQVCSSCSMDYVAYRLVGVCYTEDEAKALAEEVEVQDGPNEDGEMFMRPEKLSDYFPKPYPNPEAARAANNGALPPDLSYIIRARHGGEDYVFSLLTGYCEPPTGVSLREGLYFNPYFPGQAIGMAPPIYNEVLEFDDGTPATMSQVAKDVCTFLRWASEPEHDHRKRMGLKMLMMMGLLLPLVYAMKRHKWSVLKSRKLAYRPPK\n",
      "tr|G1LHJ1|G1LHJ1_AILME HGRSAARRNPALKDRPRPAPALPGSRGCGLGAGGFPRRARPGPLPLRPSRLGLRPEAVSLSSKAGLSRGRKVMLSALGMLAAGGAGLAVALHSAVSASDLELHPPSYPWSHRGLLSSLDHTSIRRGFQVYKQVCSSCHSMDYVAYRHLVGVCYTEEEAKALAEEVEVQDGPNEDGEMFMRPGKLSDYFPKPYPNPEAARAANNGALPPDLSYITRARHGGEDYVFSLLTGYCEPPTGVSLREGLYFNPYFPGQAIGMAPPIYDEVLEFDDGTPATMSQVAKDVCTFLRWASEPEHDHRKRMGLKMLMMMGLLLPLIYAMKQHKWSVLKSRKLAYRPPK\n",
      "tr|M3WFA4|M3WFA4_FELCA PRGAGLPGARARSLLCGARPCQLPLRTPQAVSLSSKAGLSRGRKVMLSALGMLAAGGAGLAVALHSAVSASDLELHPPSYPWSHRGFLSSLDHTSIRRGFQVYKQVCSSCHSMDYVAYRHLVGVCYTEDEAKALAEEVEVQDGPNEDGEMFMRPGKLSDYFPKPYPNPEAARAANNGALPPDLSYIVRARHGGEDYVFSLLTGYCEPPTGVSLREGLYFNPYFPGQAIGMAPPIYTEVLEYDDGTPATMSQVAKDVCTFLRWASEPEHDHRKRMGLKMLMMMGLLLPLVYAMKRHKWSVLKSRKLAYRPPK\n",
      "tr|H0VNA2|H0VNA2_CAVPO MAAAAAATTLRGVVLGPRGSGLPGARARGLLGVARPGRLPLLTPQAVSLSSKSGLSRGRKVMLSALGMLAAGGAGLAVALHSAVSASDLELHPPNYPWSHRGLLSSLDHTSIRRGFQVYKQVCSSCHSMDYVAYRHLVGVCYTEEEAKALAEEVEVQDGPNEDGEMFMRPGKLSDYFPKPYPNPEAARAANNGALPPDLSYIVRARHGGEDYVFSLLTGYCEPPTGVSLREGLYFNPYFPGQAIAMAPPIYNEVLEYDDGTPATMSQVAKDVSTFLRWASEPEHDHRKRMGLKMLMMMGLLLPLIYAMKRHKWSVLKSRKLAYRPPK\n",
      "sp|Q9D0M3|CY1_MOUSE MAAAAASLRRTVLGPRGVGLPGASAPGLLGGARSRQLPLRTPQAVSLSSKSGPSRGRKVMLSALGMLAAGGAGLAVALHSAVSASDLELHPPSYPWSHRGLLSSLDHTSIRRGFQVYKQVCSSCHSMDYVAYRHLVGVCYTEEEAKALAEEVEVQDGPNDDGEMFMRPGKLSDYFPKPYPNPEAARAANNGALPPDLSYIVRARHGGEDYVFSLLTGYCEPPTGVSLREGLYFNPYFPGQAIGMAPPIYTEVLEYDDGTPATMSQVAKDVATFLRWASEPEHDHRKRMGLKMLLMMGLLLPLTYAMKRHKWSVLKSRKLAYRPPK\n",
      "sp|P00125|CY1_BOVIN MAAAAATLRGAMVGPRGAGLPGARARGLLCGARPGQLPLRTPQAVSLSSKSGLSRGRKVILSALGMLAAGGAGLAVALHSAVSASDLELHPPSYPWSHRGLLSSLDHTSIRRGFQVYKQVCSSCHSMDYVAYRHLVGVCYTEDEAKALAEEVEVQDGPNEDGEMFMRPGKLSDYFPKPYPNPEAARAANNGALPPDLSYIVRARHGGEDYVFSLLTGYCEPPTGVSLREGLYFNPYFPGQAIGMAPPIYNEVLEFDDGTPATMSQVAKDVCTFLRWAAEPEHDHRKRMGLKMLLMMGLLLPLVYAMKRHKWSVLKSRKLAYRPPK\n",
      "tr|W5Q0A9|W5Q0A9_SHEEP MAAAAATLRGAMVGPRGAGLPGARARGLLCGARPGQLPLRTPQAVSLSSKSGLSRGRKVILSALGMLAAGGTGLAVALHSAVSASDLELHPPSYPWSHRGLLSSLDHTSIRRGFQVYKQVCSSCHSMDYVAYRHLVGVCYTEDEAKALAEEVEVQDGPNEDGEMFMRPGKLSDYFPKPYPNPEAARAANNGALPPDLSYIVRARHGGEDYVFSLLTGYCEPPRVSLREGLYFNPYFPGQAIGMAPPIYNEVLEFDDGTPATMSQVAKDVCTFLRWAAEPEHDHRKRMGLKMLLMMGLLLPLVYAMKRHKWSVLKSRKLAYRPPK\n",
      "sp|P08574|CY1_HUMAN MAAAAASLRGVVLGPRGAGLPGARARGLLCSARPGQLPLRTPQAVALSSKSGLSRGRKVMLSALGMLAAGGAGLAMALHSAVSASDLELHPPSYPWSHRGLLSSLDHTSIRRGFQVYKQVCASCHSMDFVAYRHLVGVCYTEDEAKELAAEVEVQDGPNEDGEMFMRPGKLFDYFPKPYPNSEAARAANNGALPPDLSYIVRARHGGEDYVFSLLTGYCEPPTGVSLREGLYFNPYFPGQAIAMAPPIYTDVLEFDDGTPATMSQIAKDVCTFLRWASEPEHDHRKRMGLKMLMMMALLVPLVYTIKRHKWSVLKSRKLAYRPPK\n",
      "tr|G3TXA2|G3TXA2_LOXAF MAAAAASVRRAVLSPQDAELPGARAPMLLCGARRQLPLRTPQAVSLSSKSGLSRGRKVMLSALGMLAAGGAGLAVALHSAVSASDLELHPPSYPWSHRGLLSSLDHTSIRRGFQVYKQVCSSCHSMDYVAYRHLVGVCYTEAEAKALAEEVEVQDGPNEDGEMFMRPGKLSDYFPKPYPNPEAARAANGGALPPDLSYIVRARHGGEDYVFSLLTGYCEPPTGVPLREGLYFNPYFVGQAIAMAPPIYNEVLEFDDGTPATMSQVAKDVCTFLRWASEPEHDHRKRMGLKMLMMMGLLLPLVYAMKRHKWSVLKSRKLAYRPPK\n",
      "tr|D3ZFQ8|D3ZFQ8_RAT MAAAAAASLRRSVLGPRGMGLPGASAPGLLGGARPRHLPLRTPQAVSLSSKSGPSRGRKVMLSALGMLAAGGAGLAVALHSAVSASDLELHPPSYPWSHRGLLSSLDHTSIRRGFQVYKQVCSSCHSMDYVAYRHLVGVCYTEEEAKALAEEVEVQDGPNEDGNMFMRPGKLSDYFPKPYPNPEAARAANNGALPPDLSYIVRARHGGEDYVFSLLTGYCEPPTGVSLREGLYFNPYFPGQAIGMAPPIYTEVLEYDDGTPATMSQVAKDVATFLRWASEPEHDHRKRMGLKMLLMMGLLLPLTYAMKRHKWSVLKSRKLAYRPPK\n"
     ]
    }
   ],
   "source": [
    "for i in sequences:\n",
    "    print(i, sequences[i].sequence)"
   ]
  },
  {
   "cell_type": "code",
   "execution_count": null,
   "metadata": {},
   "outputs": [],
   "source": [
    "import re"
   ]
  }
 ],
 "metadata": {
  "kernelspec": {
   "display_name": "Python 3",
   "language": "python",
   "name": "python3"
  },
  "language_info": {
   "codemirror_mode": {
    "name": "ipython",
    "version": 3
   },
   "file_extension": ".py",
   "mimetype": "text/x-python",
   "name": "python",
   "nbconvert_exporter": "python",
   "pygments_lexer": "ipython3",
   "version": "3.5.2"
  }
 },
 "nbformat": 4,
 "nbformat_minor": 2
}

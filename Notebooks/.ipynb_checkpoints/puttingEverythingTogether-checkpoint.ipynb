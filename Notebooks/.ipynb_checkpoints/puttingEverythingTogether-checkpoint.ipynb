{
 "cells": [
  {
   "cell_type": "markdown",
   "metadata": {},
   "source": [
    "# Object Oriented Aligner"
   ]
  },
  {
   "cell_type": "markdown",
   "metadata": {},
   "source": [
    "Objects are just things that have *attributes* (properties, characteristics, ..) and *methods* (actions they can do). For example, a cat has:\n",
    "- Attributes: color, race, name, color of eyes, age...\n",
    "- Methods: beign angry, eat, sleep, meow\n",
    "And an apple:\n",
    "- Attributes: color, origen, price...\n",
    "- Growth, ripe...\n",
    "\n",
    "In this notebook we will write the templates for the objects we need to do a proper multiple sequence aligner.\n",
    "\n",
    "The class is the template for doing all this objects. A created object is call **instace**."
   ]
  },
  {
   "cell_type": "markdown",
   "metadata": {},
   "source": [
    "### Sequence"
   ]
  },
  {
   "cell_type": "markdown",
   "metadata": {},
   "source": [
    "The first thing we need to align sequences are sequences. Surprise! For now a sequence has a name, a sequence itself and some features as attributes and no method. We can add them later on. \n",
    "\n",
    "To aviod people from outside using the attributes directly and do a safe code we use the **_** to determine internal attributes and *properties* to show them outside."
   ]
  },
  {
   "cell_type": "code",
   "execution_count": 1,
   "metadata": {},
   "outputs": [],
   "source": [
    "class Sequence:\n",
    "    def __init__(self, name, sequence, features):\n",
    "        self._name = name\n",
    "        self._seq  = sequence\n",
    "        self._feat = features\n",
    "    \n",
    "    @property\n",
    "    def name(self):\n",
    "        return self._name\n",
    "    \n",
    "    @property\n",
    "    def sequence(self):\n",
    "        return self._seq\n",
    "    \n",
    "    @property\n",
    "    def features(self):\n",
    "        return self._feat\n",
    "    \n",
    "    def appendSequence(self, newSeq):\n",
    "        self._seq += newSeq"
   ]
  },
  {
   "cell_type": "code",
   "execution_count": 2,
   "metadata": {},
   "outputs": [
    {
     "name": "stdout",
     "output_type": "stream",
     "text": [
      "seq1\n",
      "seq1\n"
     ]
    }
   ],
   "source": [
    "seq1 = Sequence('seq1', 'ACGT', 'First sequence')\n",
    "print(seq1._name)\n",
    "print(seq1.name)\n",
    "# Is the same output! But the seq1.name is safer to use!"
   ]
  },
  {
   "cell_type": "code",
   "execution_count": 3,
   "metadata": {},
   "outputs": [
    {
     "data": {
      "text/plain": [
       "'ACGTdmskl'"
      ]
     },
     "execution_count": 3,
     "metadata": {},
     "output_type": "execute_result"
    }
   ],
   "source": [
    "seq1.sequence + 'dmskl'"
   ]
  },
  {
   "cell_type": "markdown",
   "metadata": {},
   "source": [
    "## Tree"
   ]
  },
  {
   "cell_type": "markdown",
   "metadata": {},
   "source": [
    "#### Nodes"
   ]
  },
  {
   "cell_type": "markdown",
   "metadata": {},
   "source": [
    "Then, we need a tree. Trees are builded from nodes and branches. We can do a template for both, however, we will never use branches and I am lazy, so I will only code the template for nodes.\n",
    "So, a node is a point inside the a tree. They a parental node. They may have a right and left child. If the node has no child they will be 0! They may have, as well, name, but only if they are trees. They have the method to print theirselves, and a method to print their neighbours. Indeed, we do not even need the tree if we program the nodes correctly! The less the better!!"
   ]
  },
  {
   "cell_type": "code",
   "execution_count": 110,
   "metadata": {},
   "outputs": [],
   "source": [
    "class Node:\n",
    "    def __init__(self, name='', leftChild=0, rightChild=0, parent=0):\n",
    "        self.name    = name\n",
    "        self.left    = leftChild\n",
    "        self.right   = rightChild\n",
    "        self.parent  = parent\n",
    "        self.distance = 0\n",
    "\n",
    "    def printNode(self):\n",
    "        print('Name: '   + str(self.name))\n",
    "    \n",
    "    def printNeighbours(self):\n",
    "        print('Parent: ' + str(self.parent))\n",
    "        print('Right: '  + str(self.right))\n",
    "        print('Left: '   + str(self.left))\n",
    "        "
   ]
  },
  {
   "cell_type": "code",
   "execution_count": 46,
   "metadata": {},
   "outputs": [
    {
     "name": "stdout",
     "output_type": "stream",
     "text": [
      "Name: None\n",
      "Parent: 0\n",
      "Right: 0\n",
      "Left: 0\n"
     ]
    }
   ],
   "source": [
    "node1 = Node()\n",
    "node1.printNode()\n",
    "node1.printNeighbours()"
   ]
  },
  {
   "cell_type": "markdown",
   "metadata": {},
   "source": [
    "## The Multiple Sequence Aligment!"
   ]
  },
  {
   "cell_type": "markdown",
   "metadata": {},
   "source": [
    "Yes! We are here! Crazy right? Let's remember what it is needed for a multiple sequence aligment:\n",
    "- Attibutes:\n",
    "    - Sequences: All the sequences in a dictionary from `name` to `Sequence instance`.\n",
    "    - A matrix: It is a two dimension dictionary. From `(A to B)` to the `score` of that subtitution.\n",
    "    - Nodes: All the nodes will be saved in a dictionary `nodeId` to the `Node instance`.\n",
    "    - Aligment: Yes, it is what you guess.\n",
    "- Methods:\n",
    "    - Function to read the fasta file.\n",
    "    - A function to read an already done matrix.\n",
    "    - A function to read a newick tree.\n",
    "    - A function to do the pairwise alignments.\n",
    "    - A function to iterate through the tree and knowing when to align."
   ]
  },
  {
   "cell_type": "code",
   "execution_count": 47,
   "metadata": {},
   "outputs": [],
   "source": [
    "import re"
   ]
  },
  {
   "cell_type": "code",
   "execution_count": 168,
   "metadata": {},
   "outputs": [],
   "source": [
    "class MultipleSequenceAlignment:\n",
    "    import re\n",
    "    def __init__(self, seqFile, matFile, newkFile):\n",
    "        # Input files \n",
    "        self._seqPath  = seqFile\n",
    "        self._matPath  = matFile\n",
    "        self._newkPath = newkFile\n",
    "        \n",
    "        # Parse data\n",
    "        self._sequences =  self.readFastaFile(seqFile)\n",
    "        self._matrix    =  self.readMatrixFile(matFile)\n",
    "        self._nodes, self._numNodes =  self.readNewickFile(newkFile)\n",
    "        \n",
    "\n",
    "    def add(n):\n",
    "        return n+1\n",
    "    \n",
    "    def readFastaFile(self, file):\n",
    "        sequences = {}\n",
    "\n",
    "        with open(file) as f:\n",
    "            for line in f:\n",
    "                # If this line is name line\n",
    "                if re.match(r'^>', line):\n",
    "                    matchObject = re.match(r'^>(\\S*)\\s*(.*)', line)\n",
    "\n",
    "                    if (matchObject):\n",
    "                        name = matchObject.group(1)\n",
    "                        sequences[name] = ''\n",
    "                    inseq = 0\n",
    "                # Otherwise\n",
    "                else:\n",
    "                    if inseq == 0:\n",
    "                        inseq = 1\n",
    "                        sequences[name] = line.strip()\n",
    "                    else:\n",
    "                        sequences[name] += line.strip()\n",
    "        return sequences\n",
    "\n",
    "    def readMatrixFile(self, filename):\n",
    "        handle = open(filename, \"r\")\n",
    "        content = handle.readlines()\n",
    "        handle.close()\n",
    "\n",
    "        matrix = {}\n",
    "        letters = []\n",
    "        nlines=len (content)\n",
    "\n",
    "\n",
    "        for ln in range (0,nlines-1):\n",
    "            line=content[ln]\n",
    "            splitted = line.split()\n",
    "            a=splitted[0]\n",
    "            if a not in matrix:\n",
    "                matrix[a] = {}\n",
    "                letters.append(a)\n",
    "\n",
    "        for ln in range (0,nlines-1):\n",
    "            line=content[ln]\n",
    "            splitted = line.split()\n",
    "            l=len(splitted)\n",
    "            aa1=splitted[0]\n",
    "            for a in range (1,l):\n",
    "                aa2=letters[a-1]\n",
    "                matrix[aa1][aa2]=splitted[a]\n",
    "                matrix[aa2][aa1]=splitted[a]\n",
    "\n",
    "        return matrix\n",
    "    \n",
    "    def declare_new_tree_node(self, nodes, nn):\n",
    "        nodes[nn] = Node()\n",
    "        return (nn, nn+1)\n",
    "\n",
    "\n",
    "    def scan_name_and_dist(self, i, l):\n",
    "        name=\"\"\n",
    "        number=\"\"\n",
    "        if l[i]==';': return (\"\",-1,i)\n",
    "\n",
    "        while l[i]!=':' and i<len(l) and l[i]!=')' and l[i]!=';' and l[i]!=',':\n",
    "            name+=l[i]\n",
    "            i+=1\n",
    "\n",
    "        if l[i]!=':':\n",
    "            distance=float(0)\n",
    "            return (name,distance, i)\n",
    "        else:\n",
    "            i+=1\n",
    "\n",
    "        while  str.isdigit(l[i]) or l[i]=='e' or l[i]=='-' or l[i]=='.': \n",
    "            number+=l[i]\n",
    "            i+=1\n",
    "\n",
    "        number=float(number)\n",
    "        return (name, number,i)\n",
    "\n",
    "    def newick2nodes(self, line):\n",
    "        nodes={}\n",
    "        nodes[0]=-1\n",
    "        nn=1 # root starts at 1\n",
    "        (N,nn)=self.declare_new_tree_node(nodes, nn)\n",
    "        T=R=N\n",
    "\n",
    "        c=pi=i=0\n",
    "        while (line[i])!=';':\n",
    "            c=line[i]\n",
    "            i+=1\n",
    "            if c=='(':\n",
    "                (N, nn) = self.declare_new_tree_node(nodes,nn)\n",
    "                nodes[N].parent=T\n",
    "\n",
    "                if nodes[T].right==0:\n",
    "                    nodes[T].right=N\n",
    "                elif nodes[T].left==0:\n",
    "                    nodes[T].left=N\n",
    "                else:\n",
    "                    nodes[N].right=nodes[T].right\n",
    "                    nodes[nodes[T].right].parent=N\n",
    "\n",
    "                    nodes[N].left=nodes[T].left\n",
    "                    nodes[nodes[T].left].parent=N\n",
    "\n",
    "                    nodes[T].right=N\n",
    "\n",
    "                    (N,nn)=self.declare_new_tree_node(nodes,nn)\n",
    "\n",
    "                    nodes[T].left=N\n",
    "                    nodes[N].parent=T\n",
    "\n",
    "                T=N\n",
    "                lastc=0\n",
    "\n",
    "            elif c==')':\n",
    "                T=nodes[T].parent\n",
    "                (nodes[T].name,nodes[T].distance,i)=self.scan_name_and_dist (i,line)\n",
    "                if nodes[T].name and nodes[T].name[0]:\n",
    "                    nodes[T].bootstrap=float(nodes[T].name)\n",
    "                    nodes[T].name=\"\"\n",
    "                lastc=0;\n",
    "\n",
    "            elif c==',':\n",
    "                T=nodes[T].parent;\n",
    "                lastc+=1\n",
    "            else:\n",
    "                (N,nn)=self.declare_new_tree_node(nodes,nn)\n",
    "                nodes[N].parent=T\n",
    "\n",
    "                if nodes[T].right==0:\n",
    "                    nodes[T].right=N\n",
    "                elif nodes[T].left==0:\n",
    "                    nodes[T].left=N    \n",
    "                else:\n",
    "                    nodes[N].right=nodes[T].right\n",
    "                    nodes[nodes[T].right].parent=N\n",
    "\n",
    "                    nodes[N].left=nodes[T].left\n",
    "                    nodes[nodes[T].left].parent=N\n",
    "\n",
    "                    nodes[T].right=N\n",
    "\n",
    "\n",
    "                    (N,nn)=self.declare_new_tree_node(nodes,nn)\n",
    "                    nodes[T].left=N\n",
    "                    nodes[N].parent=T\n",
    "\n",
    "                T=N\n",
    "                i=i-1\n",
    "\n",
    "                (nodes[T].name,nodes[T].distance,i)=self.scan_name_and_dist (i,line);\n",
    "                lastc=0\n",
    "\n",
    "        T=nodes[T].parent\n",
    "\n",
    "        if nodes[T].right==0 and nodes[T].left!=0:\n",
    "            T=nodes[T].left\n",
    "\n",
    "        elif nodes[T].right!=0 and nodes[T].left==0:\n",
    "            T=nodes[T].right\n",
    "\n",
    "        nodes[T].parent=-1\n",
    "        return (nodes,nn)\n",
    "    \n",
    "    def readNewickFile(self, file):\n",
    "        tree = ''\n",
    "        with open (file) as f:\n",
    "            for line in f:\n",
    "                tree+=line\n",
    "\n",
    "        tree=re.sub (r'[ \\n\\t\\r]',\"\", tree)\n",
    "\n",
    "        #get the tree\n",
    "        nn = 0\n",
    "        nodes = {}\n",
    "        nodes, nn = self.newick2nodes(tree)\n",
    "        \n",
    "        return nodes, nn\n",
    "\n",
    "    \n",
    "    def node2splits (self, N,nodes,seq,matrix,gep):\n",
    "\n",
    "        lst=[]\n",
    "        if nodes[N].name != '':\n",
    "            lst.append(nodes[N].name)\n",
    "        else:\n",
    "            left_list=[]\n",
    "            right_list=[]\n",
    "\n",
    "            if nodes[N].left:\n",
    "                left_list=self.node2splits(nodes[N].left, nodes,seq,matrix,gep)\n",
    "            if nodes[N].right:\n",
    "                right_list=self.node2splits(nodes[N].right, nodes,seq,matrix,gep)\n",
    "\n",
    "            if (len (right_list)>0 and len(left_list)>0):\n",
    "                    seq=self.align (seq, right_list, left_list,matrix,gep)\n",
    "\n",
    "            lst=left_list+right_list\n",
    "\n",
    "        return lst\n",
    "\n",
    "    def align (self, seq,Igroup, Jgroup, matrix, gep):\n",
    "\n",
    "        lenI=len(seq[Igroup[0]])\n",
    "        lenJ=len(seq[Jgroup[0]])\n",
    "\n",
    "        smat = [[0 for x in range(lenJ+1)] for y in range(lenI+1)]\n",
    "        tb   = [[0 for x in range(lenJ+1)] for y in range(lenI+1)]\n",
    "\n",
    "        for i in range (0, lenI+1):\n",
    "            smat[i][0]=i*gep\n",
    "            tb[i][0]=1\n",
    "\n",
    "        for j in range (0, lenJ+1):\n",
    "            smat[0][j]=j*gep\n",
    "            tb[0][j]=-1\n",
    "\n",
    "\n",
    "        for i in range (1, lenI+1):\n",
    "\n",
    "            for j in range (1, lenJ+1):\n",
    "                s=float(0)\n",
    "                nsub=float(0)\n",
    "                for ni in range (0,len(Igroup)):\n",
    "                    for nj in range (0, len(Jgroup)):\n",
    "                        a1=seq[Igroup[ni]][i-1]\n",
    "                        a2=seq[Jgroup[nj]][j-1]\n",
    "                        if a1!='-' and a2!='-':\n",
    "                            s+=int(matrix[a1.upper()][a2.upper()])\n",
    "                            nsub+=1\n",
    "                if (nsub>0):\n",
    "                    s/=nsub\n",
    "\n",
    "                Sub=smat[i-1][j-1]+s\n",
    "                Del=smat[i][j-1]+gep\n",
    "                Ins=smat[i-1][j]+gep\n",
    "\n",
    "                if Sub>Del and Sub >Ins:\n",
    "                    smat[i][j]=Sub\n",
    "                    tb  [i][j]=0\n",
    "                elif Del>Ins:\n",
    "                    smat[i][j]=Del\n",
    "                    tb[i][j]=-1\n",
    "                else:\n",
    "                    smat[i][j]=Ins\n",
    "                    tb[i][j]=1\n",
    "\n",
    "\n",
    "        #print \"Optimal Score: %d\\n\"%(int(smat[lenI][lenJ]))\n",
    "        i=lenI\n",
    "        j=lenJ\n",
    "        lenA=0\n",
    "        alnI=[]\n",
    "        alnJ=[]\n",
    "        new_seq={}\n",
    "        for ni in range (0,len (Igroup)):\n",
    "            new_seq[Igroup[ni]]=\"\"\n",
    "        for nj in range (0,len (Jgroup)):\n",
    "            new_seq[Jgroup[nj]]=\"\"\n",
    "\n",
    "        while ((i==0 and j==0)!=1):\n",
    "            if (tb[i][j]==0):\n",
    "                i-=1\n",
    "                j-=1\n",
    "                for ni in range (0,len (Igroup)):\n",
    "                    new_seq[Igroup[ni]]+=seq[Igroup[ni]][i]\n",
    "                for nj in range (0,len (Jgroup)):\n",
    "                    new_seq[Jgroup[nj]]+=seq[Jgroup[nj]][j]\n",
    "\n",
    "            elif (tb[i][j]==-1):\n",
    "                j-=1\n",
    "                for ni in range (0,len (Igroup)):\n",
    "                    new_seq[Igroup[ni]]+=\"-\"\n",
    "                for nj in range (0,len (Jgroup)):\n",
    "                    new_seq[Jgroup[nj]]+=seq[Jgroup[nj]][j]\n",
    "\n",
    "            elif (tb[i][j]==1):\n",
    "                i-=1\n",
    "                for ni in range (0,len (Igroup)):\n",
    "                    new_seq[Igroup[ni]]+=seq[Igroup[ni]][i]\n",
    "                for nj in range (0,len (Jgroup)):\n",
    "                    new_seq[Jgroup[nj]]+=\"-\"\n",
    "\n",
    "            lenA+=1\n",
    "\n",
    "        for ni in range (0,len (Igroup)):\n",
    "            seq[Igroup[ni]]=new_seq[Igroup[ni]][::-1]\n",
    "        for nj in range (0,len (Jgroup)):\n",
    "            seq[Jgroup[nj]]=new_seq[Jgroup[nj]][::-1]\n",
    "        return seq\n",
    "\n",
    "    def multipleSequenceAlignment(self):\n",
    "        self.node2splits(1, self._nodes, self._sequences, self._matrix, -4)\n",
    "        print(self._sequences)"
   ]
  },
  {
   "cell_type": "code",
   "execution_count": 169,
   "metadata": {},
   "outputs": [],
   "source": [
    "MSA1 = MultipleSequenceAlignment(seqFile='../Data/cyc1_sequences.txt', matFile='../Data/matrix.txt', newkFile='../Data/tree.dnd')"
   ]
  },
  {
   "cell_type": "code",
   "execution_count": 170,
   "metadata": {},
   "outputs": [],
   "source": [
    "import re"
   ]
  },
  {
   "cell_type": "code",
   "execution_count": 171,
   "metadata": {},
   "outputs": [
    {
     "data": {
      "text/plain": [
       "25"
      ]
     },
     "execution_count": 171,
     "metadata": {},
     "output_type": "execute_result"
    }
   ],
   "source": [
    "MSA1._numNodes"
   ]
  },
  {
   "cell_type": "code",
   "execution_count": 172,
   "metadata": {},
   "outputs": [
    {
     "name": "stdout",
     "output_type": "stream",
     "text": [
      "['tr|M3WFA4|M3WFA4_FELCA', 'sp|P08574|CY1_HUMAN', 'tr|W5Q0A9|W5Q0A9_SHEEP', 'sp|P00125|CY1_BOVIN', 'tr|F6VRY7|F6VRY7_HORSE', 'tr|G3TXA2|G3TXA2_LOXAF', 'tr|D7NYA8|D7NYA8_CYNSP', 'tr|G1LHJ1|G1LHJ1_AILME', 'tr|E2REM0|E2REM0_CANLF', 'tr|H0VNA2|H0VNA2_CAVPO', 'tr|D3ZFQ8|D3ZFQ8_RAT', 'sp|Q9D0M3|CY1_MOUSE']\n",
      "{'tr|W5Q0A9|W5Q0A9_SHEEP': 'MA-AAAA-TLRGAMV-G-PRGAG-LPGAR-ARGLLCG-----ARPGQLPLRT------PQAVSLSSKSGLSRGRKVILSALGMLAAGGTGLAVALHSAVSASDLELHPPSYPWSHRGLLSSLDHT-SIRRGFQVYKQVCSSCHSMDYVAYRHLVGVCYTEDEAKALAEEVEVQDGPNEDGEMFMRPGKLSDYFPKPYPNPEAARAANNGALPPDLSYIVRARHGGEDYVFSLLTGYCEPP-RVSLREGLYFNPYFPGQAIGMAPPIYNEVLEFDDGTPATMSQVAKDVCTFLRWAAEPEHDHRKRMGLKMLLMMGLLLPLVYAMKRHKWSVLKSRKLAYRPPK', 'sp|P08574|CY1_HUMAN': 'MA-AAAA-SLRGVVL-G-PRGAG-LPGAR-ARGLLCS-----ARPGQLPLRT------PQAVALSSKSGLSRGRKVMLSALGMLAAGGAGLAMALHSAVSASDLELHPPSYPWSHRGLLSSLDHT-SIRRGFQVYKQVCASCHSMDFVAYRHLVGVCYTEDEAKELAAEVEVQDGPNEDGEMFMRPGKLFDYFPKPYPNSEAARAANNGALPPDLSYIVRARHGGEDYVFSLLTGYCEPPTGVSLREGLYFNPYFPGQAIAMAPPIYTDVLEFDDGTPATMSQIAKDVCTFLRWASEPEHDHRKRMGLKMLMMMALLVPLVYTIKRHKWSVLKSRKLAYRPPK', 'sp|P00125|CY1_BOVIN': 'MA-AAAA-TLRGAMV-G-PRGAG-LPGAR-ARGLLCG-----ARPGQLPLRT------PQAVSLSSKSGLSRGRKVILSALGMLAAGGAGLAVALHSAVSASDLELHPPSYPWSHRGLLSSLDHT-SIRRGFQVYKQVCSSCHSMDYVAYRHLVGVCYTEDEAKALAEEVEVQDGPNEDGEMFMRPGKLSDYFPKPYPNPEAARAANNGALPPDLSYIVRARHGGEDYVFSLLTGYCEPPTGVSLREGLYFNPYFPGQAIGMAPPIYNEVLEFDDGTPATMSQVAKDVCTFLRWAAEPEHDHRKRMGLKMLLMMGLLLPLVYAMKRHKWSVLKSRKLAYRPPK', 'sp|Q9D0M3|CY1_MOUSE': 'MAAAAA-S-LRRTVL-G-PRGVG-LPGAS-APGLL-GG----ARSRQLPLRT------PQAVSLSSKSGPSRGRKVMLSALGMLAAGGAGLAVALHSAVSASDLELHPPSYPWSHRGLLSSLDHT-SIRRGFQVYKQVCSSCHSMDYVAYRHLVGVCYTEEEAKALAEEVEVQDGPNDDGEMFMRPGKLSDYFPKPYPNPEAARAANNGALPPDLSYIVRARHGGEDYVFSLLTGYCEPPTGVSLREGLYFNPYFPGQAIGMAPPIYTEVLEYDDGTPATMSQVAKDVATFLRWASEPEHDHRKRMGLKMLLMMGLLLPLTYAMKRHKWSVLKSRKLAYRPPK', 'tr|G3TXA2|G3TXA2_LOXAF': 'MAAAAA-S-VRRAVL-S-PQDA-ELPGAR-APMLLCG-----AR-RQLPLRT------PQAVSLSSKSGLSRGRKVMLSALGMLAAGGAGLAVALHSAVSASDLELHPPSYPWSHRGLLSSLDHT-SIRRGFQVYKQVCSSCHSMDYVAYRHLVGVCYTEAEAKALAEEVEVQDGPNEDGEMFMRPGKLSDYFPKPYPNPEAARAANGGALPPDLSYIVRARHGGEDYVFSLLTGYCEPPTGVPLREGLYFNPYFVGQAIAMAPPIYNEVLEFDDGTPATMSQVAKDVCTFLRWASEPEHDHRKRMGLKMLMMMGLLLPLVYAMKRHKWSVLKSRKLAYRPPK', 'tr|D7NYA8|D7NYA8_CYNSP': '-------------------------------------------------------------V--------------MLSALGMLAAGGAGLAVALHSAVSASDLELHPPSYPWSHRGLLSSLDHT-SIRRGFQVYKQVCSSCHSMDYVAYRHLVGVCYTEEEAKALAEEVEVQDGPNEDGEMFMRPGKLSDYFPKPYANPEAARAANNGALPPDLSYIVRARHGGEDYVFSLLTGYCEPPTGVSLREGLYFNPYFPGQAIGMAPPIYDEVLEFDDGTPA--S--M----------S-----------------------------Q----V------A----K', 'tr|H0VNA2|H0VNA2_CAVPO': 'MAAAAAATTLRGVVL-G-PRGSG-LPGAR-ARGLL-GV----ARPGRLPLLT------PQAVSLSSKSGLSRGRKVMLSALGMLAAGGAGLAVALHSAVSASDLELHPPNYPWSHRGLLSSLDHT-SIRRGFQVYKQVCSSCHSMDYVAYRHLVGVCYTEEEAKALAEEVEVQDGPNEDGEMFMRPGKLSDYFPKPYPNPEAARAANNGALPPDLSYIVRARHGGEDYVFSLLTGYCEPPTGVSLREGLYFNPYFPGQAIAMAPPIYNEVLEYDDGTPATMSQVAKDVSTFLRWASEPEHDHRKRMGLKMLMMMGLLLPLIYAMKRHKWSVLKSRKLAYRPPK', 'tr|G1LHJ1|G1LHJ1_AILME': 'HGRSAA-R--RNPALKDRPRPAPALPGSRGC-GLGAGGFPRRARPGPLPLRPSRLGLRPEAVSLSSKAGLSRGRKVMLSALGMLAAGGAGLAVALHSAVSASDLELHPPSYPWSHRGLLSSLDHT-SIRRGFQVYKQVCSSCHSMDYVAYRHLVGVCYTEEEAKALAEEVEVQDGPNEDGEMFMRPGKLSDYFPKPYPNPEAARAANNGALPPDLSYITRARHGGEDYVFSLLTGYCEPPTGVSLREGLYFNPYFPGQAIGMAPPIYDEVLEFDDGTPATMSQVAKDVCTFLRWASEPEHDHRKRMGLKMLMMMGLLLPLIYAMKQHKWSVLKSRKLAYRPPK', 'tr|F6VRY7|F6VRY7_HORSE': '-------S------------------G------L----------------------------S--------RGRKVMLSALGMLAAGGAGLAVALHSAVSASDLELHPPSYPWSHRGLLSSLDHTRSSGRGFQVYKQVCSSC-SMDYVAYR-LVGVCYTEDEAKALAEEVEVQDGPNEDGEMFMRPEKLSDYFPKPYPNPEAARAANNGALPPDLSYIIRARHGGEDYVFSLLTGYCEPPTGVSLREGLYFNPYFPGQAIGMAPPIYNEVLEFDDGTPATMSQVAKDVCTFLRWASEPEHDHRKRMGLKMLMMMGLLLPLVYAMKRHKWSVLKSRKLAYRPPK', 'tr|E2REM0|E2REM0_CANLF': 'MAVAAA-S-LRGAVL-G-PRGAG-LPGA-GARGLLCG-----ARLGQLPLRTSQ------AVPLSSKAGPSRGRKVMLSALGMLAAGGAGLAVALHSAVSASDLELHPPSYPWSHRGLLSSLDHT-SIRRGFQVYKQVCSSCHSMDYVAYRHLVGVCYTEDEAKALAEEVEVQDGPNEDGEMFMRPGKLSDYFPKPYPNPEAARAANNGALPPDLSYITRARHGGEDYVFSLLTGYCEPPTGVSLREGLYFNPYFPGQAIGMAPPIYDEVLEFDDGTPATMSQVAKDVCTFLRWASEPEHDHRKRMGLKMLMMMGLLFPLIYAMKRHKWSVLKSRKLAYRPPK', 'tr|D3ZFQ8|D3ZFQ8_RAT': 'MAAAAAAS-LRRSVL-G-PRGMG-LPGAS-APGLL-GG----ARPRHLPLRT------PQAVSLSSKSGPSRGRKVMLSALGMLAAGGAGLAVALHSAVSASDLELHPPSYPWSHRGLLSSLDHT-SIRRGFQVYKQVCSSCHSMDYVAYRHLVGVCYTEEEAKALAEEVEVQDGPNEDGNMFMRPGKLSDYFPKPYPNPEAARAANNGALPPDLSYIVRARHGGEDYVFSLLTGYCEPPTGVSLREGLYFNPYFPGQAIGMAPPIYTEVLEYDDGTPATMSQVAKDVATFLRWASEPEHDHRKRMGLKMLLMMGLLLPLTYAMKRHKWSVLKSRKLAYRPPK', 'tr|M3WFA4|M3WFA4_FELCA': '------------------PRGAG-LPGAR-ARSLLCG-----ARPCQLPLRT------PQAVSLSSKAGLSRGRKVMLSALGMLAAGGAGLAVALHSAVSASDLELHPPSYPWSHRGFLSSLDHT-SIRRGFQVYKQVCSSCHSMDYVAYRHLVGVCYTEDEAKALAEEVEVQDGPNEDGEMFMRPGKLSDYFPKPYPNPEAARAANNGALPPDLSYIVRARHGGEDYVFSLLTGYCEPPTGVSLREGLYFNPYFPGQAIGMAPPIYTEVLEYDDGTPATMSQVAKDVCTFLRWASEPEHDHRKRMGLKMLMMMGLLLPLVYAMKRHKWSVLKSRKLAYRPPK'}\n"
     ]
    }
   ],
   "source": [
    "MSA1.multipleSequenceAlignment()"
   ]
  },
  {
   "cell_type": "code",
   "execution_count": 131,
   "metadata": {},
   "outputs": [
    {
     "data": {
      "text/plain": [
       "24"
      ]
     },
     "execution_count": 131,
     "metadata": {},
     "output_type": "execute_result"
    }
   ],
   "source": [
    "MSA1._nodes[2].left\n"
   ]
  },
  {
   "cell_type": "code",
   "execution_count": 174,
   "metadata": {},
   "outputs": [
    {
     "name": "stdout",
     "output_type": "stream",
     "text": [
      "MA-AAAA-TLRGAMV-G-PRGAG-LPGAR-ARGLLCG-----ARPGQLPLRT------PQAVSLSSKSGLSRGRKVILSALGMLAAGGTGLAVALHSAVSASDLELHPPSYPWSHRGLLSSLDHT-SIRRGFQVYKQVCSSCHSMDYVAYRHLVGVCYTEDEAKALAEEVEVQDGPNEDGEMFMRPGKLSDYFPKPYPNPEAARAANNGALPPDLSYIVRARHGGEDYVFSLLTGYCEPP-RVSLREGLYFNPYFPGQAIGMAPPIYNEVLEFDDGTPATMSQVAKDVCTFLRWAAEPEHDHRKRMGLKMLLMMGLLLPLVYAMKRHKWSVLKSRKLAYRPPK\n",
      "MA-AAAA-SLRGVVL-G-PRGAG-LPGAR-ARGLLCS-----ARPGQLPLRT------PQAVALSSKSGLSRGRKVMLSALGMLAAGGAGLAMALHSAVSASDLELHPPSYPWSHRGLLSSLDHT-SIRRGFQVYKQVCASCHSMDFVAYRHLVGVCYTEDEAKELAAEVEVQDGPNEDGEMFMRPGKLFDYFPKPYPNSEAARAANNGALPPDLSYIVRARHGGEDYVFSLLTGYCEPPTGVSLREGLYFNPYFPGQAIAMAPPIYTDVLEFDDGTPATMSQIAKDVCTFLRWASEPEHDHRKRMGLKMLMMMALLVPLVYTIKRHKWSVLKSRKLAYRPPK\n",
      "MA-AAAA-TLRGAMV-G-PRGAG-LPGAR-ARGLLCG-----ARPGQLPLRT------PQAVSLSSKSGLSRGRKVILSALGMLAAGGAGLAVALHSAVSASDLELHPPSYPWSHRGLLSSLDHT-SIRRGFQVYKQVCSSCHSMDYVAYRHLVGVCYTEDEAKALAEEVEVQDGPNEDGEMFMRPGKLSDYFPKPYPNPEAARAANNGALPPDLSYIVRARHGGEDYVFSLLTGYCEPPTGVSLREGLYFNPYFPGQAIGMAPPIYNEVLEFDDGTPATMSQVAKDVCTFLRWAAEPEHDHRKRMGLKMLLMMGLLLPLVYAMKRHKWSVLKSRKLAYRPPK\n",
      "MAAAAA-S-LRRTVL-G-PRGVG-LPGAS-APGLL-GG----ARSRQLPLRT------PQAVSLSSKSGPSRGRKVMLSALGMLAAGGAGLAVALHSAVSASDLELHPPSYPWSHRGLLSSLDHT-SIRRGFQVYKQVCSSCHSMDYVAYRHLVGVCYTEEEAKALAEEVEVQDGPNDDGEMFMRPGKLSDYFPKPYPNPEAARAANNGALPPDLSYIVRARHGGEDYVFSLLTGYCEPPTGVSLREGLYFNPYFPGQAIGMAPPIYTEVLEYDDGTPATMSQVAKDVATFLRWASEPEHDHRKRMGLKMLLMMGLLLPLTYAMKRHKWSVLKSRKLAYRPPK\n",
      "MAAAAA-S-VRRAVL-S-PQDA-ELPGAR-APMLLCG-----AR-RQLPLRT------PQAVSLSSKSGLSRGRKVMLSALGMLAAGGAGLAVALHSAVSASDLELHPPSYPWSHRGLLSSLDHT-SIRRGFQVYKQVCSSCHSMDYVAYRHLVGVCYTEAEAKALAEEVEVQDGPNEDGEMFMRPGKLSDYFPKPYPNPEAARAANGGALPPDLSYIVRARHGGEDYVFSLLTGYCEPPTGVPLREGLYFNPYFVGQAIAMAPPIYNEVLEFDDGTPATMSQVAKDVCTFLRWASEPEHDHRKRMGLKMLMMMGLLLPLVYAMKRHKWSVLKSRKLAYRPPK\n",
      "-------------------------------------------------------------V--------------MLSALGMLAAGGAGLAVALHSAVSASDLELHPPSYPWSHRGLLSSLDHT-SIRRGFQVYKQVCSSCHSMDYVAYRHLVGVCYTEEEAKALAEEVEVQDGPNEDGEMFMRPGKLSDYFPKPYANPEAARAANNGALPPDLSYIVRARHGGEDYVFSLLTGYCEPPTGVSLREGLYFNPYFPGQAIGMAPPIYDEVLEFDDGTPA--S--M----------S-----------------------------Q----V------A----K\n",
      "MAAAAAATTLRGVVL-G-PRGSG-LPGAR-ARGLL-GV----ARPGRLPLLT------PQAVSLSSKSGLSRGRKVMLSALGMLAAGGAGLAVALHSAVSASDLELHPPNYPWSHRGLLSSLDHT-SIRRGFQVYKQVCSSCHSMDYVAYRHLVGVCYTEEEAKALAEEVEVQDGPNEDGEMFMRPGKLSDYFPKPYPNPEAARAANNGALPPDLSYIVRARHGGEDYVFSLLTGYCEPPTGVSLREGLYFNPYFPGQAIAMAPPIYNEVLEYDDGTPATMSQVAKDVSTFLRWASEPEHDHRKRMGLKMLMMMGLLLPLIYAMKRHKWSVLKSRKLAYRPPK\n",
      "HGRSAA-R--RNPALKDRPRPAPALPGSRGC-GLGAGGFPRRARPGPLPLRPSRLGLRPEAVSLSSKAGLSRGRKVMLSALGMLAAGGAGLAVALHSAVSASDLELHPPSYPWSHRGLLSSLDHT-SIRRGFQVYKQVCSSCHSMDYVAYRHLVGVCYTEEEAKALAEEVEVQDGPNEDGEMFMRPGKLSDYFPKPYPNPEAARAANNGALPPDLSYITRARHGGEDYVFSLLTGYCEPPTGVSLREGLYFNPYFPGQAIGMAPPIYDEVLEFDDGTPATMSQVAKDVCTFLRWASEPEHDHRKRMGLKMLMMMGLLLPLIYAMKQHKWSVLKSRKLAYRPPK\n",
      "-------S------------------G------L----------------------------S--------RGRKVMLSALGMLAAGGAGLAVALHSAVSASDLELHPPSYPWSHRGLLSSLDHTRSSGRGFQVYKQVCSSC-SMDYVAYR-LVGVCYTEDEAKALAEEVEVQDGPNEDGEMFMRPEKLSDYFPKPYPNPEAARAANNGALPPDLSYIIRARHGGEDYVFSLLTGYCEPPTGVSLREGLYFNPYFPGQAIGMAPPIYNEVLEFDDGTPATMSQVAKDVCTFLRWASEPEHDHRKRMGLKMLMMMGLLLPLVYAMKRHKWSVLKSRKLAYRPPK\n",
      "MAVAAA-S-LRGAVL-G-PRGAG-LPGA-GARGLLCG-----ARLGQLPLRTSQ------AVPLSSKAGPSRGRKVMLSALGMLAAGGAGLAVALHSAVSASDLELHPPSYPWSHRGLLSSLDHT-SIRRGFQVYKQVCSSCHSMDYVAYRHLVGVCYTEDEAKALAEEVEVQDGPNEDGEMFMRPGKLSDYFPKPYPNPEAARAANNGALPPDLSYITRARHGGEDYVFSLLTGYCEPPTGVSLREGLYFNPYFPGQAIGMAPPIYDEVLEFDDGTPATMSQVAKDVCTFLRWASEPEHDHRKRMGLKMLMMMGLLFPLIYAMKRHKWSVLKSRKLAYRPPK\n",
      "MAAAAAAS-LRRSVL-G-PRGMG-LPGAS-APGLL-GG----ARPRHLPLRT------PQAVSLSSKSGPSRGRKVMLSALGMLAAGGAGLAVALHSAVSASDLELHPPSYPWSHRGLLSSLDHT-SIRRGFQVYKQVCSSCHSMDYVAYRHLVGVCYTEEEAKALAEEVEVQDGPNEDGNMFMRPGKLSDYFPKPYPNPEAARAANNGALPPDLSYIVRARHGGEDYVFSLLTGYCEPPTGVSLREGLYFNPYFPGQAIGMAPPIYTEVLEYDDGTPATMSQVAKDVATFLRWASEPEHDHRKRMGLKMLLMMGLLLPLTYAMKRHKWSVLKSRKLAYRPPK\n",
      "------------------PRGAG-LPGAR-ARSLLCG-----ARPCQLPLRT------PQAVSLSSKAGLSRGRKVMLSALGMLAAGGAGLAVALHSAVSASDLELHPPSYPWSHRGFLSSLDHT-SIRRGFQVYKQVCSSCHSMDYVAYRHLVGVCYTEDEAKALAEEVEVQDGPNEDGEMFMRPGKLSDYFPKPYPNPEAARAANNGALPPDLSYIVRARHGGEDYVFSLLTGYCEPPTGVSLREGLYFNPYFPGQAIGMAPPIYTEVLEYDDGTPATMSQVAKDVCTFLRWASEPEHDHRKRMGLKMLMMMGLLLPLVYAMKRHKWSVLKSRKLAYRPPK\n"
     ]
    }
   ],
   "source": [
    "for i in MSA1._sequences:\n",
    "    print(MSA1._sequences[i])"
   ]
  },
  {
   "cell_type": "code",
   "execution_count": null,
   "metadata": {},
   "outputs": [],
   "source": []
  }
 ],
 "metadata": {
  "kernelspec": {
   "display_name": "Python 3",
   "language": "python",
   "name": "python3"
  },
  "language_info": {
   "codemirror_mode": {
    "name": "ipython",
    "version": 3
   },
   "file_extension": ".py",
   "mimetype": "text/x-python",
   "name": "python",
   "nbconvert_exporter": "python",
   "pygments_lexer": "ipython3",
   "version": "3.5.2"
  }
 },
 "nbformat": 4,
 "nbformat_minor": 2
}

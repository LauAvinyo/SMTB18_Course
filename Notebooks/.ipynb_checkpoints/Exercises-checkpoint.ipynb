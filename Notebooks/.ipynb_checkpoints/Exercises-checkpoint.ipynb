{
 "cells": [
  {
   "cell_type": "code",
   "execution_count": 3,
   "metadata": {},
   "outputs": [],
   "source": [
    "import re\n",
    "import math"
   ]
  },
  {
   "cell_type": "markdown",
   "metadata": {},
   "source": [
    "#### DAY 1"
   ]
  },
  {
   "cell_type": "markdown",
   "metadata": {},
   "source": [
    "# Exercise 1:\n",
    "We will write a function that:\n",
    " - Receives the path of a fasta file with the sequences we want to align\n",
    " - Returns a dictionary where keys are the name of the sequence and the value is the sequence\n"
   ]
  },
  {
   "cell_type": "code",
   "execution_count": 4,
   "metadata": {},
   "outputs": [],
   "source": [
    "def readFastaFile(file):\n",
    "    sequences = {}\n",
    "    \n",
    "    with open(file) as f:\n",
    "        for line in f:\n",
    "            # If this line is name line\n",
    "            if re.match(r'^>', line):\n",
    "                matchObject = re.match(r'^>(\\S*)\\s*(.*)', line)\n",
    "                \n",
    "                if (matchObject):\n",
    "                    name = matchObject.group(1)\n",
    "                    sequences[name] = ''\n",
    "                inseq = 0\n",
    "            # Otherwise\n",
    "            else:\n",
    "                if inseq == 0:\n",
    "                    inseq = 1\n",
    "                    sequences[name] = line.strip()\n",
    "                else:\n",
    "                    sequences[name] += line.strip()\n",
    "    return sequences"
   ]
  },
  {
   "cell_type": "code",
   "execution_count": 5,
   "metadata": {},
   "outputs": [],
   "source": [
    "sequences = readFastaFile('cyc1_sequences.txt')"
   ]
  },
  {
   "cell_type": "raw",
   "metadata": {},
   "source": [
    "for s in sequences:\n",
    "    print(s, sequences[s], sep='\\n')"
   ]
  },
  {
   "cell_type": "markdown",
   "metadata": {},
   "source": [
    "#### DAY 2"
   ]
  },
  {
   "cell_type": "markdown",
   "metadata": {},
   "source": [
    "# Exercise 2:\n",
    "\n",
    "We will write a function that:\n",
    " - Receives the path of a fasta file with the alignment of unbiased sequences\n",
    " - Returns a 2D dictionary where keys are the name of the residues and the value is the score\n"
   ]
  },
  {
   "cell_type": "code",
   "execution_count": 9,
   "metadata": {},
   "outputs": [],
   "source": [
    "alp=\"ACDEFGHIKLMNPQRSTVWY\" # this is the AA alphabet\n",
    "\n",
    "def generateMatrix(alignment):\n",
    "    totResidues = 0\n",
    "    totSubtitut = 0\n",
    "    \n",
    "    # Initialize to zero the total residue counting\n",
    "    freqr = {}\n",
    "    for res in alp:\n",
    "        freqr[res] = 0\n",
    "    \n",
    "    # Initialize to zero the subtition matrix\n",
    "    matrix = {}\n",
    "    for res1 in alp:\n",
    "        matrix[res1] = {}\n",
    "        for res2 in alp:\n",
    "            matrix[res1][res2] = 0\n",
    "            \n",
    "    \n",
    "    # Count how many time each residue is found\n",
    "    # Mind the Gap!\n",
    "    for s in alignment:\n",
    "        for aa in alignment[s]:\n",
    "            if aa != '-': \n",
    "                freqr[aa] += 1\n",
    "                totResidues += 1\n",
    "    \n",
    "    # Get the frequency of each residue\n",
    "    for aa in freqr:\n",
    "        freqr[aa] /= totResidues\n",
    "    \n",
    "    # Since dictionaries are not good to numerate in a fix manner\n",
    "    # Lets transform the values into a tuple\n",
    "    \n",
    "    sequences = tuple(alignment[i] for i in alignment)\n",
    "    nseq = len(sequences)\n",
    "    \n",
    "    for i in range(0, nseq):\n",
    "        for j in range(i+1, nseq):\n",
    "            seqI = sequences[i]\n",
    "            seqJ = sequences[j]\n",
    "            if len(seqI) != len(seqJ): return \"ERROR!!\"\n",
    "            \n",
    "            for aa in range(0, len(seqI)):\n",
    "                aaI = seqI[aa]\n",
    "                aaJ = seqJ[aa]\n",
    "                if aaI != '-' and aaJ != '-':\n",
    "                    matrix[aaJ][aaI] += 1\n",
    "                    matrix[aaI][aaJ] += 1\n",
    "                    totSubtitut += 2\n",
    "    \n",
    "    # mathematical transformation \n",
    "    for aa1 in alp:\n",
    "        for aa2 in alp:\n",
    "            num = matrix[aa1][aa2] / totSubtitut\n",
    "            den = freqr[aa1]*freqr[aa2]\n",
    "            matrix[aa1][aa2] = math.log10(num/den) * 10\n",
    "        \n",
    "    return matrix"
   ]
  },
  {
   "cell_type": "code",
   "execution_count": 10,
   "metadata": {},
   "outputs": [],
   "source": [
    "msa = readFastaFile('../msa1.fasta')\n",
    "matrix = generateMatrix(msa)"
   ]
  },
  {
   "cell_type": "raw",
   "metadata": {},
   "source": [
    "matrix;"
   ]
  },
  {
   "cell_type": "markdown",
   "metadata": {},
   "source": [
    "# Exercise 3:\n",
    "We will write a function that:\n",
    " - Receives the path of a matrix (.mat) file with a substitution matrix\n",
    " - Returns a 2D dictionary where keys are the name of the residues and the value is the score\n"
   ]
  },
  {
   "cell_type": "code",
   "execution_count": 11,
   "metadata": {},
   "outputs": [],
   "source": [
    "def readMatrix(filename):\n",
    "    # Read the file\n",
    "    handle = open(filename, 'r')\n",
    "    content= handle.readlines()\n",
    "    handle.close()\n",
    "    \n",
    "    # Set up the matrix file\n",
    "    matrix  = {}\n",
    "    letters = []\n",
    "    numline = len(content) \n",
    "    \n",
    "    for nl in range(0, numline):\n",
    "        line = content[nl]\n",
    "        splt = line.split()\n",
    "        a = splt[0]\n",
    "        if a not in matrix:\n",
    "            matrix[a] = {}\n",
    "            letters.append(a)\n",
    "            \n",
    "    # Go throug the file and save the values\n",
    "    for nl in range(0, numline):\n",
    "        line = content[nl]\n",
    "        splt = line.split()\n",
    "        l = len(splt)\n",
    "        aa1 = splt[0]\n",
    "        for a in range(0, len(letters)):\n",
    "            aa2 = letters[a]\n",
    "            matrix[aa1][aa2] = splt[a]\n",
    "            matrix[aa2][aa1] = splt[a]\n",
    "    \n",
    "    return matrix"
   ]
  },
  {
   "cell_type": "markdown",
   "metadata": {},
   "source": [
    "# Exercise 4:\n",
    "We will write a function that:\n",
    " - Receives two sequences\n",
    " - Returns both sequences aligned"
   ]
  },
  {
   "cell_type": "code",
   "execution_count": 21,
   "metadata": {},
   "outputs": [],
   "source": [
    "seqI = 'THEFASTCAT'\n",
    "seqJ = 'THEFATCAT'\n",
    "\n",
    "def pairAlignment(seqI, seqJ, matrix):\n",
    "    \n",
    "    # Check that there are no gaps in this sequences\n",
    "    # I am paranoid\n",
    "    seqI.replace('-', '')\n",
    "    seqJ.replace('-', '')\n",
    "\n",
    "    # Get the length of the sequences\n",
    "    lenI=len(XXX)\n",
    "    lenJ=len(XXX)\n",
    "\n",
    "    # Penalty for putting a gap\n",
    "    gep=-4\n",
    "\n",
    "    \n",
    "    # Initiallize to zero the matrices\n",
    "    smat = [[0 for x in range(lenJ+1)] for y in range(lenI+1)]\n",
    "    tb   = [[0 for x in range(lenJ+1)] for y in range(lenI+1)]\n",
    "\n",
    "    # Base cases\n",
    "    for i in range (0, lenI+1):\n",
    "        smat[i][0]=0\n",
    "        tb[i][0]=-2\n",
    "\n",
    "    for j in range (0, lenJ+1):\n",
    "        smat[0][j]=0\n",
    "        tb[0][j]=-2\n",
    "\n",
    "    # Fill the table\n",
    "    bscore=0\n",
    "    for i in range (1, lenI+1):\n",
    "        for j in range (1, lenJ+1):\n",
    "            if seqI[i-1]!='-' and seqJ[j-1]!='-':\n",
    "                s=int(matrix[seqI[i-1]][seqJ[j-1]])\n",
    "            else:\n",
    "                s=0\n",
    "\n",
    "            Sub=smat[i-1][j-1]+ XXX\n",
    "            Del=smat[i][j-1]+ XXX\n",
    "            Ins=smat[i-1][j]+ XXX\n",
    "\n",
    "            if Sub>Del and Sub>Ins:\n",
    "                smat[i][j]= Sub\n",
    "                tb  [i][j]= 0\n",
    "            elif Del>Ins:\n",
    "                smat[i][j]= XXX\n",
    "                tb[i][j]=-1\n",
    "            else:\n",
    "                smat[i][j]= Ins\n",
    "                tb[i][j]= XXX\n",
    "\n",
    "            if smat[i][j]>bscore:\n",
    "                XXX=smat[i][j]\n",
    "\n",
    "    # Traceback\n",
    "    alnI=''\n",
    "    alnJ=''\n",
    "    while (tb[i][j]!=-2):\n",
    "        if (tb[i][j]==0):\n",
    "            i-=1\n",
    "            j-=1\n",
    "            alnI += seqI[XXX]\n",
    "            alnJ += seqJ[XXX]\n",
    "        elif (tb[i][j]==-1):\n",
    "            j-=1\n",
    "            alnI += XXX\n",
    "            alnJ += seqJ[j]\n",
    "        elif (tb[i][j]==XXX):\n",
    "            i-=1\n",
    "            alnI += seqI[i]\n",
    "            alnJ += '-'\n",
    "\n",
    "\n",
    "    # This is used to reverse the sequences\n",
    "    alnI=alnI[::-1]\n",
    "    alnJ=alnJ[::-1]\n",
    "\n",
    "    return alnI, alnJ, bscore"
   ]
  },
  {
   "cell_type": "code",
   "execution_count": 22,
   "metadata": {},
   "outputs": [
    {
     "data": {
      "text/plain": [
       "('THEFASTCAT', 'THEFA-TCAT', 72)"
      ]
     },
     "execution_count": 22,
     "metadata": {},
     "output_type": "execute_result"
    }
   ],
   "source": [
    "pairAlignment(seqI, seqJ, matrix)"
   ]
  },
  {
   "cell_type": "markdown",
   "metadata": {},
   "source": [
    "# Exercise 5:\n",
    "We will write a function that:\n",
    " - Receives the path of netwick file \n",
    " - Returns an instance of class tree"
   ]
  },
  {
   "cell_type": "code",
   "execution_count": 1,
   "metadata": {},
   "outputs": [],
   "source": [
    "## The node class\n",
    "class Node:\n",
    "    def __init__(self, name, nodeType):\n",
    "        # We we put all the starting things\n",
    "        self._name = name\n",
    "        self._nodeType = nodeType\n",
    "        #####\n",
    "        # Node types:\n",
    "        #    1: Intermediate\n",
    "        #    0: Leaf\n",
    "        #    2: Root\n",
    "        #####"
   ]
  },
  {
   "cell_type": "code",
   "execution_count": null,
   "metadata": {},
   "outputs": [],
   "source": [
    "## The tree class\n",
    "class Tree:\n",
    "    def __init__():\n",
    "        ####\n",
    "        \n",
    "    def readFile():\n",
    "        return\n",
    "\n",
    "    def writeFile():\n",
    "        return \n",
    "    \n",
    "    def iterate():\n",
    "        ### You are gonna program tomorrow!!!\n",
    "        "
   ]
  },
  {
   "cell_type": "code",
   "execution_count": null,
   "metadata": {},
   "outputs": [],
   "source": [
    "## The function"
   ]
  },
  {
   "cell_type": "markdown",
   "metadata": {},
   "source": [
    "# Other interresting functions already implemented"
   ]
  },
  {
   "cell_type": "code",
   "execution_count": null,
   "metadata": {},
   "outputs": [],
   "source": [
    " "
   ]
  }
 ],
 "metadata": {
  "kernelspec": {
   "display_name": "Python 3",
   "language": "python",
   "name": "python3"
  },
  "language_info": {
   "codemirror_mode": {
    "name": "ipython",
    "version": 3
   },
   "file_extension": ".py",
   "mimetype": "text/x-python",
   "name": "python",
   "nbconvert_exporter": "python",
   "pygments_lexer": "ipython3",
   "version": "3.5.2"
  }
 },
 "nbformat": 4,
 "nbformat_minor": 2
}

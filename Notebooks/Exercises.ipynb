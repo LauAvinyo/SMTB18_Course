{
 "cells": [
  {
   "cell_type": "markdown",
   "metadata": {},
   "source": [
    "# Exercise 1:\n",
    "We will write a function that:\n",
    " - Receives the path of a fasta file with the sequences we want to align\n",
    " - Returns a dictionary where keys are the name of the sequence and the value is the sequence\n"
   ]
  },
  {
   "cell_type": "code",
   "execution_count": 2,
   "metadata": {},
   "outputs": [],
   "source": [
    "def readFastaFile(file):\n",
    "    return"
   ]
  },
  {
   "cell_type": "markdown",
   "metadata": {},
   "source": [
    "# Exercise 2:\n",
    "\n",
    "We will write a function that:\n",
    " - Receives the path of a fasta file with the alignment of unbiased sequences\n",
    " - Returns a 2D dictionary where keys are the name of the residues and the value is the score\n"
   ]
  },
  {
   "cell_type": "code",
   "execution_count": 3,
   "metadata": {},
   "outputs": [],
   "source": [
    "def generateMatrix(alignment):\n",
    "    return "
   ]
  },
  {
   "cell_type": "markdown",
   "metadata": {},
   "source": [
    "# Exercise 3:\n",
    "We will write a function that:\n",
    " - Receives the path of a matrix (.mat) file with a substitution matrix\n",
    " - Returns a 2D dictionary where keys are the name of the residues and the value is the score\n"
   ]
  },
  {
   "cell_type": "code",
   "execution_count": 4,
   "metadata": {},
   "outputs": [],
   "source": [
    "def readMatrix(filename):\n",
    "    \n",
    "    # Read the file\n",
    "    handle = open(filename, 'r')\n",
    "    content= handle.readlines()\n",
    "    handle.close()\n",
    "    \n",
    "    # Set up the matrix file\n",
    "    matrix  = {}\n",
    "    letters = []\n",
    "    numline = len(content) \n",
    "    \n",
    "    for nl in range(XXX, XXX):\n",
    "        line = content[nl]\n",
    "        splt = line.split()\n",
    "        a = splt[XXX]\n",
    "        if a not in matrix:\n",
    "            matrix[a] = {}\n",
    "            letters.append(a)\n",
    "            \n",
    "    # Go throug the file and save the values\n",
    "    for nl in range(XXX, XXX):\n",
    "        line = content[nl]\n",
    "        splt = line.split()\n",
    "        l = len(splt)\n",
    "        aa1 = XXX\n",
    "        for a in range(XXX, XXX):\n",
    "            aa2 = letters[XXX]\n",
    "            matrix[XXX][XXX] = splt[XXX]\n",
    "            matrix[XXX][XXX] = XXX\n",
    "    \n",
    "    return matrix"
   ]
  },
  {
   "cell_type": "markdown",
   "metadata": {},
   "source": [
    "# Exercise 4:\n",
    "We will write a function that:\n",
    " - Receives two sequences\n",
    " - Returns both sequences aligned"
   ]
  },
  {
   "cell_type": "markdown",
   "metadata": {},
   "source": [
    "# Exercise 5:\n",
    "We will write a function that:\n",
    " - Receives the path of netwick file \n",
    " - Returns an instance of class tree"
   ]
  },
  {
   "cell_type": "markdown",
   "metadata": {},
   "source": [
    "# Other interresting functions already implemented"
   ]
  },
  {
   "cell_type": "code",
   "execution_count": null,
   "metadata": {},
   "outputs": [],
   "source": []
  }
 ],
 "metadata": {
  "kernelspec": {
   "display_name": "Python 3",
   "language": "python",
   "name": "python3"
  },
  "language_info": {
   "codemirror_mode": {
    "name": "ipython",
    "version": 3
   },
   "file_extension": ".py",
   "mimetype": "text/x-python",
   "name": "python",
   "nbconvert_exporter": "python",
   "pygments_lexer": "ipython3",
   "version": "3.5.2"
  }
 },
 "nbformat": 4,
 "nbformat_minor": 2
}
